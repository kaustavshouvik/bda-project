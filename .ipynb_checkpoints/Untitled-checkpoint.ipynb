{
 "cells": [
  {
   "cell_type": "code",
   "execution_count": 8,
   "id": "4877cddd",
   "metadata": {},
   "outputs": [],
   "source": [
    "from pyspark.sql import SparkSession"
   ]
  },
  {
   "cell_type": "code",
   "execution_count": 9,
   "id": "8e2caac5",
   "metadata": {},
   "outputs": [],
   "source": [
    "spark = SparkSession.builder.appName('practice2').getOrCreate()"
   ]
  },
  {
   "cell_type": "code",
   "execution_count": 10,
   "id": "4f1f4438",
   "metadata": {},
   "outputs": [
    {
     "data": {
      "text/html": [
       "\n",
       "            <div>\n",
       "                <p><b>SparkSession - in-memory</b></p>\n",
       "                \n",
       "        <div>\n",
       "            <p><b>SparkContext</b></p>\n",
       "\n",
       "            <p><a href=\"http://172.20.156.120:4040\">Spark UI</a></p>\n",
       "\n",
       "            <dl>\n",
       "              <dt>Version</dt>\n",
       "                <dd><code>v3.2.0</code></dd>\n",
       "              <dt>Master</dt>\n",
       "                <dd><code>local[*]</code></dd>\n",
       "              <dt>AppName</dt>\n",
       "                <dd><code>practice</code></dd>\n",
       "            </dl>\n",
       "        </div>\n",
       "        \n",
       "            </div>\n",
       "        "
      ],
      "text/plain": [
       "<pyspark.sql.session.SparkSession at 0x7f50d9304eb0>"
      ]
     },
     "execution_count": 10,
     "metadata": {},
     "output_type": "execute_result"
    }
   ],
   "source": [
    "spark"
   ]
  },
  {
   "cell_type": "code",
   "execution_count": 14,
   "id": "31b92d0e",
   "metadata": {},
   "outputs": [],
   "source": [
    "df = spark.read.csv('heart.csv', header=True)"
   ]
  },
  {
   "cell_type": "code",
   "execution_count": 15,
   "id": "19876d8c",
   "metadata": {},
   "outputs": [
    {
     "name": "stdout",
     "output_type": "stream",
     "text": [
      "+---+---+-------------+---------+-----------+---------+----------+-----+--------------+-------+--------+------------+\n",
      "|Age|Sex|ChestPainType|RestingBP|Cholesterol|FastingBS|RestingECG|MaxHR|ExerciseAngina|Oldpeak|ST_Slope|HeartDisease|\n",
      "+---+---+-------------+---------+-----------+---------+----------+-----+--------------+-------+--------+------------+\n",
      "| 40|  M|          ATA|      140|        289|        0|    Normal|  172|             N|      0|      Up|           0|\n",
      "| 49|  F|          NAP|      160|        180|        0|    Normal|  156|             N|      1|    Flat|           1|\n",
      "| 37|  M|          ATA|      130|        283|        0|        ST|   98|             N|      0|      Up|           0|\n",
      "| 48|  F|          ASY|      138|        214|        0|    Normal|  108|             Y|    1.5|    Flat|           1|\n",
      "| 54|  M|          NAP|      150|        195|        0|    Normal|  122|             N|      0|      Up|           0|\n",
      "| 39|  M|          NAP|      120|        339|        0|    Normal|  170|             N|      0|      Up|           0|\n",
      "| 45|  F|          ATA|      130|        237|        0|    Normal|  170|             N|      0|      Up|           0|\n",
      "| 54|  M|          ATA|      110|        208|        0|    Normal|  142|             N|      0|      Up|           0|\n",
      "| 37|  M|          ASY|      140|        207|        0|    Normal|  130|             Y|    1.5|    Flat|           1|\n",
      "| 48|  F|          ATA|      120|        284|        0|    Normal|  120|             N|      0|      Up|           0|\n",
      "| 37|  F|          NAP|      130|        211|        0|    Normal|  142|             N|      0|      Up|           0|\n",
      "| 58|  M|          ATA|      136|        164|        0|        ST|   99|             Y|      2|    Flat|           1|\n",
      "| 39|  M|          ATA|      120|        204|        0|    Normal|  145|             N|      0|      Up|           0|\n",
      "| 49|  M|          ASY|      140|        234|        0|    Normal|  140|             Y|      1|    Flat|           1|\n",
      "| 42|  F|          NAP|      115|        211|        0|        ST|  137|             N|      0|      Up|           0|\n",
      "| 54|  F|          ATA|      120|        273|        0|    Normal|  150|             N|    1.5|    Flat|           0|\n",
      "| 38|  M|          ASY|      110|        196|        0|    Normal|  166|             N|      0|    Flat|           1|\n",
      "| 43|  F|          ATA|      120|        201|        0|    Normal|  165|             N|      0|      Up|           0|\n",
      "| 60|  M|          ASY|      100|        248|        0|    Normal|  125|             N|      1|    Flat|           1|\n",
      "| 36|  M|          ATA|      120|        267|        0|    Normal|  160|             N|      3|    Flat|           1|\n",
      "+---+---+-------------+---------+-----------+---------+----------+-----+--------------+-------+--------+------------+\n",
      "only showing top 20 rows\n",
      "\n"
     ]
    }
   ],
   "source": [
    "df.show()"
   ]
  },
  {
   "cell_type": "code",
   "execution_count": null,
   "id": "e2f3d672",
   "metadata": {},
   "outputs": [],
   "source": []
  }
 ],
 "metadata": {
  "kernelspec": {
   "display_name": "Python 3 (ipykernel)",
   "language": "python",
   "name": "python3"
  },
  "language_info": {
   "codemirror_mode": {
    "name": "ipython",
    "version": 3
   },
   "file_extension": ".py",
   "mimetype": "text/x-python",
   "name": "python",
   "nbconvert_exporter": "python",
   "pygments_lexer": "ipython3",
   "version": "3.8.10"
  }
 },
 "nbformat": 4,
 "nbformat_minor": 5
}

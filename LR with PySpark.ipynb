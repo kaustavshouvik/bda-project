{
 "cells": [
  {
   "cell_type": "code",
   "execution_count": 1,
   "id": "48d71b6d",
   "metadata": {},
   "outputs": [
    {
     "name": "stderr",
     "output_type": "stream",
     "text": [
      "22/01/04 16:53:19 WARN Utils: Your hostname, alphatron resolves to a loopback address: 127.0.1.1; using 172.20.123.7 instead (on interface eth0)\n",
      "22/01/04 16:53:19 WARN Utils: Set SPARK_LOCAL_IP if you need to bind to another address\n",
      "WARNING: An illegal reflective access operation has occurred\n",
      "WARNING: Illegal reflective access by org.apache.spark.unsafe.Platform (file:/usr/local/lib/python3.8/dist-packages/pyspark/jars/spark-unsafe_2.12-3.2.0.jar) to constructor java.nio.DirectByteBuffer(long,int)\n",
      "WARNING: Please consider reporting this to the maintainers of org.apache.spark.unsafe.Platform\n",
      "WARNING: Use --illegal-access=warn to enable warnings of further illegal reflective access operations\n",
      "WARNING: All illegal access operations will be denied in a future release\n",
      "Using Spark's default log4j profile: org/apache/spark/log4j-defaults.properties\n",
      "Setting default log level to \"WARN\".\n",
      "To adjust logging level use sc.setLogLevel(newLevel). For SparkR, use setLogLevel(newLevel).\n",
      "22/01/04 16:53:22 WARN NativeCodeLoader: Unable to load native-hadoop library for your platform... using builtin-java classes where applicable\n"
     ]
    }
   ],
   "source": [
    "from pyspark.sql import SparkSession\n",
    "\n",
    "spark = SparkSession.builder.appName('linear-regression').getOrCreate()"
   ]
  },
  {
   "cell_type": "code",
   "execution_count": 2,
   "id": "52817a83",
   "metadata": {},
   "outputs": [
    {
     "data": {
      "text/html": [
       "\n",
       "            <div>\n",
       "                <p><b>SparkSession - in-memory</b></p>\n",
       "                \n",
       "        <div>\n",
       "            <p><b>SparkContext</b></p>\n",
       "\n",
       "            <p><a href=\"http://172.20.123.7:4040\">Spark UI</a></p>\n",
       "\n",
       "            <dl>\n",
       "              <dt>Version</dt>\n",
       "                <dd><code>v3.2.0</code></dd>\n",
       "              <dt>Master</dt>\n",
       "                <dd><code>local[*]</code></dd>\n",
       "              <dt>AppName</dt>\n",
       "                <dd><code>linear-regression</code></dd>\n",
       "            </dl>\n",
       "        </div>\n",
       "        \n",
       "            </div>\n",
       "        "
      ],
      "text/plain": [
       "<pyspark.sql.session.SparkSession at 0x7faf2e1672b0>"
      ]
     },
     "execution_count": 2,
     "metadata": {},
     "output_type": "execute_result"
    }
   ],
   "source": [
    "spark"
   ]
  },
  {
   "cell_type": "code",
   "execution_count": 3,
   "id": "ac3d4c15",
   "metadata": {},
   "outputs": [],
   "source": [
    "df = spark.read.csv('advertising.csv', inferSchema=True, header=True)"
   ]
  },
  {
   "cell_type": "code",
   "execution_count": 4,
   "id": "9fcbdeb4",
   "metadata": {},
   "outputs": [
    {
     "name": "stdout",
     "output_type": "stream",
     "text": [
      "+-----+-----+---------+-----+\n",
      "|   TV|Radio|Newspaper|Sales|\n",
      "+-----+-----+---------+-----+\n",
      "|230.1| 37.8|     69.2| 22.1|\n",
      "| 44.5| 39.3|     45.1| 10.4|\n",
      "| 17.2| 45.9|     69.3| 12.0|\n",
      "|151.5| 41.3|     58.5| 16.5|\n",
      "|180.8| 10.8|     58.4| 17.9|\n",
      "|  8.7| 48.9|     75.0|  7.2|\n",
      "| 57.5| 32.8|     23.5| 11.8|\n",
      "|120.2| 19.6|     11.6| 13.2|\n",
      "|  8.6|  2.1|      1.0|  4.8|\n",
      "|199.8|  2.6|     21.2| 15.6|\n",
      "| 66.1|  5.8|     24.2| 12.6|\n",
      "|214.7| 24.0|      4.0| 17.4|\n",
      "| 23.8| 35.1|     65.9|  9.2|\n",
      "| 97.5|  7.6|      7.2| 13.7|\n",
      "|204.1| 32.9|     46.0| 19.0|\n",
      "|195.4| 47.7|     52.9| 22.4|\n",
      "| 67.8| 36.6|    114.0| 12.5|\n",
      "|281.4| 39.6|     55.8| 24.4|\n",
      "| 69.2| 20.5|     18.3| 11.3|\n",
      "|147.3| 23.9|     19.1| 14.6|\n",
      "+-----+-----+---------+-----+\n",
      "only showing top 20 rows\n",
      "\n"
     ]
    }
   ],
   "source": [
    "df.show()"
   ]
  },
  {
   "cell_type": "code",
   "execution_count": 5,
   "id": "dfa6b838",
   "metadata": {},
   "outputs": [
    {
     "name": "stdout",
     "output_type": "stream",
     "text": [
      "root\n",
      " |-- TV: double (nullable = true)\n",
      " |-- Radio: double (nullable = true)\n",
      " |-- Newspaper: double (nullable = true)\n",
      " |-- Sales: double (nullable = true)\n",
      "\n"
     ]
    }
   ],
   "source": [
    "df.printSchema()"
   ]
  },
  {
   "cell_type": "code",
   "execution_count": 6,
   "id": "5444501d",
   "metadata": {},
   "outputs": [],
   "source": [
    "# In PySpark we create a new feature out of all the\n",
    "# independent features\n",
    "# [TV, Radio, Newspaper] --> one feature"
   ]
  },
  {
   "cell_type": "code",
   "execution_count": 7,
   "id": "3ca83c5d",
   "metadata": {},
   "outputs": [],
   "source": [
    "from pyspark.ml.feature import VectorAssembler\n",
    "\n",
    "featureAssembler = VectorAssembler(inputCols=['TV', 'Radio', 'Newspaper'], outputCol='Independent Feature')"
   ]
  },
  {
   "cell_type": "code",
   "execution_count": 8,
   "id": "be10ba8e",
   "metadata": {},
   "outputs": [],
   "source": [
    "output = featureAssembler.transform(df)"
   ]
  },
  {
   "cell_type": "code",
   "execution_count": 9,
   "id": "ecb0cec4",
   "metadata": {},
   "outputs": [
    {
     "name": "stdout",
     "output_type": "stream",
     "text": [
      "+-----+-----+---------+-----+-------------------+\n",
      "|   TV|Radio|Newspaper|Sales|Independent Feature|\n",
      "+-----+-----+---------+-----+-------------------+\n",
      "|230.1| 37.8|     69.2| 22.1|  [230.1,37.8,69.2]|\n",
      "| 44.5| 39.3|     45.1| 10.4|   [44.5,39.3,45.1]|\n",
      "| 17.2| 45.9|     69.3| 12.0|   [17.2,45.9,69.3]|\n",
      "|151.5| 41.3|     58.5| 16.5|  [151.5,41.3,58.5]|\n",
      "|180.8| 10.8|     58.4| 17.9|  [180.8,10.8,58.4]|\n",
      "|  8.7| 48.9|     75.0|  7.2|    [8.7,48.9,75.0]|\n",
      "| 57.5| 32.8|     23.5| 11.8|   [57.5,32.8,23.5]|\n",
      "|120.2| 19.6|     11.6| 13.2|  [120.2,19.6,11.6]|\n",
      "|  8.6|  2.1|      1.0|  4.8|      [8.6,2.1,1.0]|\n",
      "|199.8|  2.6|     21.2| 15.6|   [199.8,2.6,21.2]|\n",
      "| 66.1|  5.8|     24.2| 12.6|    [66.1,5.8,24.2]|\n",
      "|214.7| 24.0|      4.0| 17.4|   [214.7,24.0,4.0]|\n",
      "| 23.8| 35.1|     65.9|  9.2|   [23.8,35.1,65.9]|\n",
      "| 97.5|  7.6|      7.2| 13.7|     [97.5,7.6,7.2]|\n",
      "|204.1| 32.9|     46.0| 19.0|  [204.1,32.9,46.0]|\n",
      "|195.4| 47.7|     52.9| 22.4|  [195.4,47.7,52.9]|\n",
      "| 67.8| 36.6|    114.0| 12.5|  [67.8,36.6,114.0]|\n",
      "|281.4| 39.6|     55.8| 24.4|  [281.4,39.6,55.8]|\n",
      "| 69.2| 20.5|     18.3| 11.3|   [69.2,20.5,18.3]|\n",
      "|147.3| 23.9|     19.1| 14.6|  [147.3,23.9,19.1]|\n",
      "+-----+-----+---------+-----+-------------------+\n",
      "only showing top 20 rows\n",
      "\n"
     ]
    }
   ],
   "source": [
    "output.show()"
   ]
  },
  {
   "cell_type": "code",
   "execution_count": 10,
   "id": "fa618325",
   "metadata": {},
   "outputs": [],
   "source": [
    "df = output.select('Independent Feature', 'Sales')"
   ]
  },
  {
   "cell_type": "code",
   "execution_count": 11,
   "id": "d3f8f80c",
   "metadata": {},
   "outputs": [
    {
     "name": "stdout",
     "output_type": "stream",
     "text": [
      "+-------------------+-----+\n",
      "|Independent Feature|Sales|\n",
      "+-------------------+-----+\n",
      "|  [230.1,37.8,69.2]| 22.1|\n",
      "|   [44.5,39.3,45.1]| 10.4|\n",
      "|   [17.2,45.9,69.3]| 12.0|\n",
      "|  [151.5,41.3,58.5]| 16.5|\n",
      "|  [180.8,10.8,58.4]| 17.9|\n",
      "|    [8.7,48.9,75.0]|  7.2|\n",
      "|   [57.5,32.8,23.5]| 11.8|\n",
      "|  [120.2,19.6,11.6]| 13.2|\n",
      "|      [8.6,2.1,1.0]|  4.8|\n",
      "|   [199.8,2.6,21.2]| 15.6|\n",
      "|    [66.1,5.8,24.2]| 12.6|\n",
      "|   [214.7,24.0,4.0]| 17.4|\n",
      "|   [23.8,35.1,65.9]|  9.2|\n",
      "|     [97.5,7.6,7.2]| 13.7|\n",
      "|  [204.1,32.9,46.0]| 19.0|\n",
      "|  [195.4,47.7,52.9]| 22.4|\n",
      "|  [67.8,36.6,114.0]| 12.5|\n",
      "|  [281.4,39.6,55.8]| 24.4|\n",
      "|   [69.2,20.5,18.3]| 11.3|\n",
      "|  [147.3,23.9,19.1]| 14.6|\n",
      "+-------------------+-----+\n",
      "only showing top 20 rows\n",
      "\n"
     ]
    }
   ],
   "source": [
    "df.show()"
   ]
  },
  {
   "cell_type": "code",
   "execution_count": 12,
   "id": "23c1581d",
   "metadata": {},
   "outputs": [],
   "source": [
    "from pyspark.ml.regression import LinearRegression\n",
    "\n",
    "train_data, test_data = df.randomSplit([0.75, 0.25])"
   ]
  },
  {
   "cell_type": "code",
   "execution_count": 13,
   "id": "c4fc939a",
   "metadata": {},
   "outputs": [
    {
     "name": "stdout",
     "output_type": "stream",
     "text": [
      "+-------------------+-----+\n",
      "|Independent Feature|Sales|\n",
      "+-------------------+-----+\n",
      "|     [4.1,11.6,5.7]|  3.2|\n",
      "|     [5.4,29.9,9.4]|  5.3|\n",
      "|    [7.3,28.1,41.4]|  5.5|\n",
      "|    [7.8,38.9,50.6]|  6.6|\n",
      "|     [8.4,27.2,2.1]|  5.7|\n",
      "|      [8.6,2.1,1.0]|  4.8|\n",
      "|    [8.7,48.9,75.0]|  7.2|\n",
      "|   [13.2,15.9,49.6]|  5.6|\n",
      "|    [17.2,4.1,31.6]|  5.9|\n",
      "|   [17.9,37.6,21.6]|  8.0|\n",
      "|   [18.7,12.1,23.4]|  6.7|\n",
      "|   [19.6,20.1,17.0]|  7.6|\n",
      "|   [23.8,35.1,65.9]|  9.2|\n",
      "|   [25.0,11.0,29.7]|  7.2|\n",
      "|   [25.1,25.7,43.3]|  8.5|\n",
      "|    [28.6,1.5,33.0]|  7.3|\n",
      "|    [31.5,24.6,2.2]| 11.0|\n",
      "|   [36.9,38.6,65.6]| 10.8|\n",
      "|    [38.2,3.7,13.8]|  7.6|\n",
      "|   [43.0,25.9,20.5]|  9.6|\n",
      "+-------------------+-----+\n",
      "only showing top 20 rows\n",
      "\n"
     ]
    }
   ],
   "source": [
    "train_data.show()"
   ]
  },
  {
   "cell_type": "code",
   "execution_count": 14,
   "id": "450c0d9c",
   "metadata": {},
   "outputs": [
    {
     "name": "stdout",
     "output_type": "stream",
     "text": [
      "+-------------------+-----+\n",
      "|Independent Feature|Sales|\n",
      "+-------------------+-----+\n",
      "|     [0.7,39.6,8.7]|  1.6|\n",
      "|   [11.7,36.9,45.2]|  7.3|\n",
      "|    [13.1,0.4,25.6]|  5.3|\n",
      "|   [16.9,43.7,89.4]|  8.7|\n",
      "|   [17.2,45.9,69.3]| 12.0|\n",
      "|   [18.8,21.7,50.4]|  7.0|\n",
      "|   [19.4,16.0,22.3]|  6.6|\n",
      "|    [25.6,39.0,9.3]|  9.5|\n",
      "|   [26.8,33.0,19.3]|  8.8|\n",
      "|    [27.5,1.6,20.7]|  6.9|\n",
      "|   [38.0,40.3,11.9]| 10.9|\n",
      "|    [39.5,41.1,5.8]| 10.8|\n",
      "|   [43.1,26.7,35.1]| 10.1|\n",
      "|    [48.3,47.0,8.5]| 11.6|\n",
      "|   [66.9,11.7,36.8]|  9.7|\n",
      "|     [69.0,9.3,0.9]| 11.3|\n",
      "|     [80.2,0.0,9.2]| 11.9|\n",
      "|    [89.7,9.9,35.7]| 10.6|\n",
      "|     [94.2,4.9,8.1]| 14.0|\n",
      "|     [95.7,1.4,7.4]| 11.9|\n",
      "+-------------------+-----+\n",
      "only showing top 20 rows\n",
      "\n"
     ]
    }
   ],
   "source": [
    "test_data.show()"
   ]
  },
  {
   "cell_type": "code",
   "execution_count": 15,
   "id": "f37d301e",
   "metadata": {},
   "outputs": [],
   "source": [
    "regressor = LinearRegression(featuresCol='Independent Feature', labelCol='Sales')"
   ]
  },
  {
   "cell_type": "code",
   "execution_count": 17,
   "id": "93987853",
   "metadata": {},
   "outputs": [
    {
     "name": "stderr",
     "output_type": "stream",
     "text": [
      "22/01/04 17:06:24 WARN Instrumentation: [2cbe4be9] regParam is zero, which might cause numerical instability and overfitting.\n"
     ]
    }
   ],
   "source": [
    "regressor = regressor.fit(train_data)"
   ]
  },
  {
   "cell_type": "code",
   "execution_count": 18,
   "id": "297c4125",
   "metadata": {},
   "outputs": [
    {
     "data": {
      "text/plain": [
       "DenseVector([0.0539, 0.1112, -0.0026])"
      ]
     },
     "execution_count": 18,
     "metadata": {},
     "output_type": "execute_result"
    }
   ],
   "source": [
    "regressor.coefficients"
   ]
  },
  {
   "cell_type": "code",
   "execution_count": 19,
   "id": "914a24d3",
   "metadata": {},
   "outputs": [],
   "source": [
    "test_output = regressor.evaluate(test_data)"
   ]
  },
  {
   "cell_type": "code",
   "execution_count": 21,
   "id": "4333d352",
   "metadata": {},
   "outputs": [
    {
     "name": "stderr",
     "output_type": "stream",
     "text": [
      "/usr/local/lib/python3.8/dist-packages/pyspark/sql/context.py:125: FutureWarning: Deprecated in 3.0.0. Use SparkSession.builder.getOrCreate() instead.\n",
      "  warnings.warn(\n"
     ]
    },
    {
     "name": "stdout",
     "output_type": "stream",
     "text": [
      "+-------------------+-----+------------------+\n",
      "|Independent Feature|Sales|        prediction|\n",
      "+-------------------+-----+------------------+\n",
      "|     [0.7,39.6,8.7]|  1.6| 9.170616363528747|\n",
      "|   [11.7,36.9,45.2]|  7.3| 9.367869499880062|\n",
      "|    [13.1,0.4,25.6]|  5.3| 5.436256068071204|\n",
      "|   [16.9,43.7,89.4]|  8.7| 10.28873490745773|\n",
      "|   [17.2,45.9,69.3]| 12.0| 10.60197978207611|\n",
      "|   [18.8,21.7,50.4]|  7.0| 8.046881107543218|\n",
      "|   [19.4,16.0,22.3]|  6.6| 7.518821970816424|\n",
      "|    [25.6,39.0,9.3]|  9.5|10.444085430273716|\n",
      "|   [26.8,33.0,19.3]|  8.8| 9.815536416012545|\n",
      "|    [27.5,1.6,20.7]|  6.9| 6.358418720766618|\n",
      "|   [38.0,40.3,11.9]| 10.9| 11.25001584615341|\n",
      "|    [39.5,41.1,5.8]| 10.8| 11.43571622154527|\n",
      "|   [43.1,26.7,35.1]| 10.1| 9.952159602708166|\n",
      "|    [48.3,47.0,8.5]| 11.6|12.558845330320967|\n",
      "|   [66.9,11.7,36.8]|  9.7| 9.562431165227604|\n",
      "|     [69.0,9.3,0.9]| 11.3| 9.502470906958713|\n",
      "|     [80.2,0.0,9.2]| 11.9| 9.050306078166791|\n",
      "|    [89.7,9.9,35.7]| 10.6|10.593758054825196|\n",
      "|     [94.2,4.9,8.1]| 14.0|10.352375482724618|\n",
      "|     [95.7,1.4,7.4]| 11.9|  10.0458864573964|\n",
      "+-------------------+-----+------------------+\n",
      "only showing top 20 rows\n",
      "\n"
     ]
    }
   ],
   "source": [
    "test_output.predictions.show()"
   ]
  },
  {
   "cell_type": "code",
   "execution_count": null,
   "id": "7c2a77ff",
   "metadata": {},
   "outputs": [],
   "source": []
  }
 ],
 "metadata": {
  "kernelspec": {
   "display_name": "Python 3 (ipykernel)",
   "language": "python",
   "name": "python3"
  },
  "language_info": {
   "codemirror_mode": {
    "name": "ipython",
    "version": 3
   },
   "file_extension": ".py",
   "mimetype": "text/x-python",
   "name": "python",
   "nbconvert_exporter": "python",
   "pygments_lexer": "ipython3",
   "version": "3.8.10"
  }
 },
 "nbformat": 4,
 "nbformat_minor": 5
}
